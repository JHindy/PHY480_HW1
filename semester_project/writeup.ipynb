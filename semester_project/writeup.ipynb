{
 "cells": [
  {
   "cell_type": "markdown",
   "metadata": {},
   "source": [
    "<h1><center>Computational Fluid Dynamics in Python</center></h1>\n",
    "<center>In the Context of Formula 1 Racing</center>"
   ]
  },
  {
   "cell_type": "markdown",
   "metadata": {},
   "source": [
    "### Introduction:\n",
    "&emsp; Formula 1 (F1) is often called the pinnacle of motorsports. This is because it is often on the cutting edge of technology. In the 1960’s the cutting edge had little to do with aerodynamics. Often, designers would admit that the aerodynamics of the F1 cars were mostly guess work and with the sole purpose of decreasing air resistance. An example of what this looks like can be seen below. \n",
    "<img src=\"f160s.jpg\" width=640 height=360 />\n",
    "F1 engineers, however, began to realize that they could use bernoulli's principle to create a force that holds the cars to the ground in a way similar to how airplanes are pushed up into the air. This led to the addition of front and rear “wings” called so because they are essentially upside down airplane wings. The F1 engineers also realized they could take advantage of the area of compression between the bottom of the car and the road surface. This is called ground force and both of these downforce producing methods can be seen in the 1980’s F1 car below.\n",
    "<img src=\"f180s.jpg\" width=640 height=360 />\n",
    "After further inspection and some bad crashes, ground effect was banned because of its unstable nature. If cars hit large bumps in the road the seal under the car is broken and there is no longer a low pressure area creating downforce. This sent cars flying and also ushered in the era of wing based downforce. This also happened to come around the same time that computational analysis was really becoming popular. Nowadays, F1 teams use highly sophisticated computational fluid dynamics (CFD) programs and modeling software to design their cars. This is necessary to understand how the flow over the car looks and how best to create downforce mostly using wings. This results in cars with extremely complicated bodies designed to maximize downforce. This complicated body work can be seen below on the 2019 Aston Martin Redbull Racing team.\n",
    "<img src=\"f110s.jpg\" width=640 height=360 />\n",
    "With this project I wanted to experiment with very basic CFD algorithms in Python. These are nowhere near as sophisticated as what is employed in F1, but it still shows the big picture theories of F1 aerodynamics."
   ]
  },
  {
   "cell_type": "markdown",
   "metadata": {},
   "source": [
    "### The Code:\n",
    "&emsp; The majority of the code is adapted from code published on this website: http://ohllab.org/CFD_course/index.html. Originally, I planned to attempt to write my own algorithms for CFD but found that my knowledge of fluid dynamics is not nearly comprehensive enough. Thus, I found the algorithms and simply adjusted them for study in the context of F1. \n",
    "\n",
    "The three most important aerodynamic parts of the car are:\n",
    "- The front wing\n",
    "- The diffuser\n",
    "- The tires\n",
    "\n",
    "To that end, I decided to focus on modeling these parts of the car. \n",
    "\n",
    "&emsp; To study the aerodynamics of a F1 front wing we must look at the flow over an upside down airfoil. The airfoil is a shape that is designed to create the largest amount of lift on an airplane or downforce on a F1 car. The shape of an F1 airfoil can be seen below.\n",
    "<img src=\"single_airfoil_shape.jpeg\" width=1280 height=720 />\n",
    "Then, I sent that shape through what can be described as a crude computational wind tunnel and we can observe how air flows over the airfoil of a F1 car.\n",
    "<img src=\"single_airfoil_flow.jpeg\" width=1280 height=720 />\n",
    "In this plot the length of the arrows denotes the speed of the air at that point. Thus, we can see the large speed differences on either side of the airfoil. Bernoulli's principle tells us that high speed air creates a low pressure zone and low speed air creates a high pressure zone. Thus, anytime there is high speed air below and low speed air above the airfoil downforce is created. Looking at this single airfoil we see that down force is created at the tip of the airfoil and lift is created at the end of the airfoil. Due to its shape however, there is more force directly on the tip then there is on the end because the end of the airfoil is angled up so much more than the tip.\n",
    "\n",
    "&emsp; Nowadays, it is much more common to see multiple airfoils trained together. To see what benefits this gives, I added a second airfoil and ran the same simulation. Below is the shape of the double airfoil and then the simulation.\n",
    "<img src=\"double_airfoil_shape.jpeg\" width=1280 height=720 />\n",
    "<img src=\"double_airfoil_flow.jpeg\" width=1280 height=720 />\n",
    "When we run the simulation for the double airfoil the benefits become obvious. Downforce is created along the entire first airfoil and most of the second foil. This is a much larger downforce creating area than with the single airfoil and thus, significantly more downforce.\n",
    "\n",
    "&emsp; The diffuser is an aerodynamic part under the car. It takes air flowing under the car, compresses it, and then diffuses it back to the same speed it was when it entered the area below the car. This creates a small amount of ground effect downforce because the high speed air under the car creates a low pressure point. Below is the typical shape of a diffuser, with the arrows denoting the normal vectors of the surfaces. \n",
    "<img src=\"diffuser_shape.jpeg\" width=1280 height=720 />\n",
    "A similar simulation to the one used for the airfoils can be used here. It is also extremely important to observe the pressure in this situation so the background of the plot is colored by pressure of the air. The pressure is negative because it is measured as the difference from the pressure above the car.\n",
    "<img src=\"diffuser_flow.jpeg\" width=1280 height=720 />\n",
    "&emsp; The last two simulations were meant to show the ways a F1 car creates downforce. Through both wings and the use of the ground effect phenomena. What is equally important to creating downforce is limiting drag. The biggest contributor to drag in a modern F1 car is the tires. This comes from the nature of the series. F1 is an open wheel racing series. Lots of other racing series have body work that covers the wheels and contour the airflow around the tires. F1 does not have this luxury. The next simulation will look at how air might flow around an F1 tire. The purpose of this is to show how detrimental to aerodynamics the tires can be. The first simulation is the front tires and the second simulation is for the rear tires. \n",
    "<img src=\"FT_aero.jpeg\" width=1280 height=720 />\n",
    "<img src=\"RT_aero.jpeg\" width=1280 height=720 />\n",
    "From these simulations we clearly see the drag created by the tires. The front part of the tires absorb almost all the kinetic energy of the air hitting it. The only air that flows past the tires is the air on the very edge. What can often be even more detrimental to a F1 car’s aerodynamics is the dead zone behind the tires. The air behind the tires is now moving at a very low velocity. Imagine the velocity of the air flowing over the airfoil simulation is moving as slow as the air behind the tires. The amount of downforce created by the airfoils would be drastically less. To solve this problem F1 teams will often try to direct air around the tires using the front wing."
   ]
  },
  {
   "cell_type": "markdown",
   "metadata": {},
   "source": [
    "### Scalability:\n",
    "\n",
    "&emsp; To test the scalability of these simulations I looked at the runtime for the airfoil. I ran both the single and double airfoil programs while scaling the number of points starting at 20, and ending at 45 going in steps of 1. Below I plotted the runtime vs. the number of points both with a standard scale and with a log scale on the y-axis. I also performed a fit for both the lines\n",
    "<img src=\"airfoil_runtime.jpeg\" width=1280 height=720 />\n",
    "Fit for single airfoil:   \n",
    "\n",
    "$0.123x-3.018$\n",
    "\n",
    "Which gives a fit equation of:\n",
    "\n",
    "$0.0489e^{0.123x}$\n",
    "\n",
    "Fit for double airfoil:\n",
    "\n",
    "$0.148x-3.562$\n",
    "\n",
    "Which gives a fit equation of:\n",
    "\n",
    "$0.0284e^{0.148x}$\n",
    "\n",
    "It is clear then, that adding a second airfoil adds computation time. Thus, we can see how complicated and efficient F1 CFD algorithms must be to model the hundreds of aerodynamic parts on a F1 car. So while the scalability of this very basic CFD model is not great, it must be possible to make extremely efficient algorithms, most likely not written in Python.\n",
    "\n",
    "### Comparison to Real World:\n",
    "\n",
    "&emsp; To confirm that our simulations are working correctly we simply must compare to phenomena observed in the real world. First when looking at flow over an airfoil, we see what is expected. A single airfoil does create downforce by adjusting the speed of the air flow around it. The true test of the simulation was what happened when I added a second airfoil. Here we clearly see the airfoils become more efficient and begin creating a lot more downforce. This is exactly what is expected based on observations in the real world as most downforce creating wings on F1 cars have at least two airfoils. When looking at the simulation of the diffuser what can confirm the simulation is working correctly is the exit speed of the air at the end of the diffuser. Diffusers work by increasing the speed of air under the car by compressing it and then slowing that air back down before ejecting it back into the environment. This is important to creating the pressure difference which in turn creates downforce. We see a high speed low pressure area in the compression part of the diffuser and a low speed atmospheric pressure area in the expansion part of the diffuser. All these values have been measured in reference to the air before it interacts with the car. This means when we see a very low speed and zero pressure, the air is returning to its original parameters as expected. To confirm the tire simulation is working correctly we simply look at the areas in front of and behind the tires. F1 engineers have experimented with the aerodynamics of tires and found that they block the air and create drag at the front which causes a dead air area behind the tire. We do see these in the simulations of both the front tires and rear tires. It is important that the front tires are not as thick as the rear tires because a large dead zone behind the front tires would have a detrimental effect on the aerodynamics of the car behind the front tires. The rear tires on the other hand, don’t have this problem and therefore are allowed to be much more thick."
   ]
  },
  {
   "cell_type": "markdown",
   "metadata": {},
   "source": [
    "### Conclusions:\n",
    "\n",
    "&emsp; From this project I have learned about CFD algorithms and exactly how complicated they can be. With Python, the extent of CFD algorithms are quite limited. Even just wanting to increase the number of points by 20 we see a massive spike in how long it takes for the simulations to run. This is partly from the algorithm, which I’m sure could be made more efficient, however, part of it is simply because Python is nowhere near the most efficient coding language. All of this taken into account, however, I was still able to observe some very basic aerodynamic principles and compare them directly to what is known about race car aerodynamics."
   ]
  },
  {
   "cell_type": "code",
   "execution_count": null,
   "metadata": {},
   "outputs": [],
   "source": []
  }
 ],
 "metadata": {
  "kernelspec": {
   "display_name": "Python 3",
   "language": "python",
   "name": "python3"
  },
  "language_info": {
   "codemirror_mode": {
    "name": "ipython",
    "version": 3
   },
   "file_extension": ".py",
   "mimetype": "text/x-python",
   "name": "python",
   "nbconvert_exporter": "python",
   "pygments_lexer": "ipython3",
   "version": "3.7.4"
  }
 },
 "nbformat": 4,
 "nbformat_minor": 4
}
